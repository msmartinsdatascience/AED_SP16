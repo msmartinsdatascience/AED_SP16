{
 "cells": [
  {
   "cell_type": "markdown",
   "metadata": {
    "id": "OMd_9TAVmde6"
   },
   "source": [
    "# UNB - PPCA\n",
    "## Disciplina: Algoritmos e Estruturas de Dados (AED) - 2021.1 <br>"
   ]
  },
  {
   "cell_type": "markdown",
   "metadata": {
    "id": "8I2C4CaBmV2y"
   },
   "source": [
    "### Problema SP16 - Numerical 3-Dimensional Matching<br> \n",
    "$Instance$: Disjoint sets $W$, $X$ and $Y$, each cotaining $m$ elements, a size $s(a) \\in  Z^+$ for each element $ a \\in W \\cup X \\cup Y$, and a bound $ B \\in Z^+$.<br>\n",
    "$Question$: Can $W \\cup X \\cup Y$  be partitioned into $m$ disjoint sets $A_1, A_2, ..., A_m$ such that each $A_i$, contains exactly one element from each of $W$, $X$ and $Y$ and such that, for $1 \\le i \\le m$, $\\sum_{a \\in A_i}s(a)=B$?<br>\n",
    "$Reference:$ [Garey and Jonhson, ----]. Transformation from 3DM <br><br>\n",
    "Fonte: Computers and Intractability: A Guide to the Theory of NP-Completeness, página 224.\n"
   ]
  },
  {
   "cell_type": "markdown",
   "metadata": {},
   "source": [
    "### Abordagem III: geração dos conjuntos mutuamento exclusivos de soma constante via aleatoriedade"
   ]
  },
  {
   "cell_type": "code",
   "execution_count": 1,
   "metadata": {
    "id": "u_X8jkVEv6N2"
   },
   "outputs": [],
   "source": [
    "import pandas as pd\n",
    "import numpy as np\n",
    "from random import sample\n",
    "import time\n",
    "from collections import Counter"
   ]
  },
  {
   "cell_type": "markdown",
   "metadata": {},
   "source": [
    "##### 1. Define funções de Inserção de Dados e outras funções auxiliares"
   ]
  },
  {
   "cell_type": "code",
   "execution_count": 12,
   "metadata": {
    "id": "qkrtFWNvvg6O"
   },
   "outputs": [],
   "source": [
    "# Define a função do size\n",
    "def peso(x):\n",
    "    return x\n",
    "    \n",
    "def DefineConjunto():\n",
    "    # Especifica conjunto de entrada\n",
    "    x=int(input(\"Informe gerador de A: \\\n",
    "    1 - Aleatório, 2 - Entre com seu conjunto: \"))\n",
    "    if x==2:\n",
    "        listainput=input(\"Informe um conjunto de números separado por espaço: \").split()\n",
    "        listainput=[int(string) for string in listainput]\n",
    "        m=len(listainput) // 3\n",
    "        A=listainput[:m*3]\n",
    "        lenA=len(A)\n",
    "\n",
    "    else:\n",
    "        # número de elementos de cada um dos conjuntos W, X e Y.\n",
    "        m=int(input(\"Informe o valor m, número de elementos de cada um dos conjuntos W, X e Y: \"))\n",
    "        lenA=3*m # define comprimento do conjunto A\n",
    "        aleatorio=np.unique(np.random.randint(1, lenA*200, lenA*100))\n",
    "        A= aleatorio.tolist()[:lenA]\n",
    "\n",
    "    W, X, Y = A[:m], A[m:2*m], A[2*m:3*m] # avalia comprimento de W, X e Y:\n",
    "    print(\"Conjunto A: \",A[:20],\"...\")\n",
    "    if sum(A) % m ==0:\n",
    "        print (m, \"é divisor de\",sum(A), \"soma dos elementos de A\")\n",
    "    else: \n",
    "        print (m, \"NÃO é divisor de\",sum(A), \"da soma dos elementos de A\")\n",
    "    print(\"Subconjuntos: \\n W=\",W[:10],\"... \\n X=\", X[:10],\"... \\n Y=\", Y[:10],\"... \")\n",
    "\n",
    "    return W, X, Y, m\n",
    "\n",
    "def DefineConjuntoAleatorio(m=3):\n",
    "    lenA=3*m\n",
    "    aleatorio=np.unique(np.random.randint(1, lenA*200, lenA*100))\n",
    "    A= aleatorio.tolist()[:lenA]\n",
    "    W, X, Y = A[:m], A[m:2*m], A[2*m:3*m] # avalia comprimento de W, X e Y:\n",
    "    print(\"Conjunto A: \",A[:20])\n",
    "    if sum(A) % m ==0:\n",
    "        print (m, \"é divisor de\",sum(A), \"soma dos elementos de A\")\n",
    "    else: \n",
    "        print (m, \"NÃO é divisor de\",sum(A), \"da soma dos elementos de A\")\n",
    "    return W, X, Y, m"
   ]
  },
  {
   "cell_type": "markdown",
   "metadata": {},
   "source": [
    "##### 2. Define função de busca de conjuntos mutuamente exclusivos, tipo 3-tupla, de mesma soma, para um dado conjunto particionado "
   ]
  },
  {
   "cell_type": "code",
   "execution_count": 18,
   "metadata": {},
   "outputs": [],
   "source": [
    "def geradorSP16_v2(W, X, Y):\n",
    "    A=set(W)|set(X)|set(Y)\n",
    "    k=100*len(W)**3\n",
    "\n",
    "    s=[]\n",
    "    m=len(W)\n",
    "    if sum(A) % m != 0:\n",
    "        return print(\"Conjunto não pode ser particionado nas condições do problema SP16\")\n",
    "    else:\n",
    "        B=int(sum(A)/m)\n",
    "        remanescenteA=[len(A)]\n",
    "        for i in range(k):\n",
    "            if len(set(W)|set(X)|set(Y))==0:\n",
    "                break\n",
    "            else:\n",
    "                #print(i)\n",
    "                w=int(pd.Series(W).sample(n=1,replace=True))\n",
    "                x=int(pd.Series(X).sample(n=1,replace=True))\n",
    "                y=int(pd.Series(Y).sample(n=1,replace=True))\n",
    "                evento=[w,x,y]\n",
    "                if sum(evento)==B :\n",
    "                    #print(evento)\n",
    "                    s.append(evento)\n",
    "                    W.remove(w)\n",
    "                    X.remove(x)\n",
    "                    Y.remove(y)\n",
    "                    remanescenteA.append(len(set(W)|set(X)|set(Y)))\n",
    "\n",
    "        if A==set(np.unique(s)):\n",
    "            print(\"O conjunto pode ser particionado em \",m, \"subconjuntos de soma \",B, \".\")\n",
    "        else:\n",
    "            #print(\"A:\", A)\n",
    "            print(\"Não foram encontrados subconjuntos de A que atendam aos critérios do problema, para o número de iterações aplicado.\")\n",
    "            print(\"Quantidade de elementos remanescentes em A:\",remanescenteA)\n",
    "            print(\"Número de elementos cobertos pela extração:\", len(np.unique(s)))\n",
    "\n",
    "    print(s)\n"
   ]
  },
  {
   "cell_type": "markdown",
   "metadata": {},
   "source": [
    "##### 3. Execução caso a caso"
   ]
  },
  {
   "cell_type": "code",
   "execution_count": 28,
   "metadata": {},
   "outputs": [
    {
     "name": "stdout",
     "output_type": "stream",
     "text": [
      "================================================================================\n",
      "Informe gerador de A:     1 - Aleatório, 2 - Entre com seu conjunto: 1\n",
      "Informe o valor m, número de elementos de cada um dos conjuntos W, X e Y: 3\n",
      "Conjunto A:  [1, 2, 3, 4, 5, 6, 12, 14, 16] ...\n",
      "3 é divisor de 63 soma dos elementos de A\n",
      "Subconjuntos: \n",
      " W= [1, 2, 3] ... \n",
      " X= [4, 5, 6] ... \n",
      " Y= [12, 14, 16] ... \n",
      "O conjunto pode ser particionado em  3 subconjuntos de soma  21 .\n",
      "[[2, 5, 14], [1, 4, 16], [3, 6, 12]]\n",
      "Tempo estimado de execução: 0.006977 segundos\n"
     ]
    }
   ],
   "source": [
    "# Chama funções\n",
    "print(\"=\"*80)\n",
    "cW, cX, cY, m = DefineConjunto()\n",
    "t0 = time.time()\n",
    "geradorSP16_v2(cW, cX, cY)\n",
    "tempo=round(time.time() - t0,4)\n",
    "print(\"Tempo estimado de execução:\", round(time.time() - t0,6), \"segundos\")"
   ]
  },
  {
   "cell_type": "markdown",
   "metadata": {},
   "source": [
    "##### 4. Executar série de casos aleatórios"
   ]
  },
  {
   "cell_type": "code",
   "execution_count": 51,
   "metadata": {},
   "outputs": [
    {
     "name": "stdout",
     "output_type": "stream",
     "text": [
      "================================================================================\n",
      "Conjunto A:  [3, 5, 6, 8, 10, 11, 12, 14, 15]\n",
      "3 é divisor de 84 soma dos elementos de A\n",
      "O conjunto pode ser particionado em  3 subconjuntos de soma  28 .\n",
      "[[3, 11, 14], [5, 8, 15], [6, 10, 12]]\n",
      "Tempo estimado de execução: 0.0 segundos\n",
      "================================================================================\n",
      "Conjunto A:  [3, 5, 8, 9, 10, 13, 17, 19, 21]\n",
      "3 é divisor de 105 soma dos elementos de A\n",
      "O conjunto pode ser particionado em  3 subconjuntos de soma  35 .\n",
      "[[8, 10, 17], [3, 13, 19], [5, 9, 21]]\n",
      "Tempo estimado de execução: 0.0339 segundos\n",
      "================================================================================\n",
      "Conjunto A:  [2, 7, 9, 14, 23, 24, 28, 29, 30]\n",
      "3 NÃO é divisor de 166 da soma dos elementos de A\n",
      "Conjunto não pode ser particionado nas condições do problema SP16\n",
      "Tempo estimado de execução: 0.0 segundos\n",
      "================================================================================\n",
      "Conjunto A:  [5, 6, 7, 10, 12, 14, 16, 17, 20]\n",
      "3 NÃO é divisor de 107 da soma dos elementos de A\n",
      "Conjunto não pode ser particionado nas condições do problema SP16\n",
      "Tempo estimado de execução: 0.0 segundos\n",
      "================================================================================\n",
      "Conjunto A:  [3, 5, 6, 7, 11, 12, 14, 17, 18]\n",
      "3 é divisor de 93 soma dos elementos de A\n",
      "Não foram encontrados subconjuntos de A que atendam aos critérios do problema, para o número de iterações aplicado.\n",
      "Quantidade de elementos remanescentes em A: [9, 6]\n",
      "Número de elementos cobertos pela extração: 3\n",
      "[[6, 11, 14]]\n",
      "Tempo estimado de execução: 1.3501 segundos\n",
      "================================================================================\n",
      "Conjunto A:  [3, 7, 8, 9, 10, 15, 16, 17, 18]\n",
      "3 NÃO é divisor de 103 da soma dos elementos de A\n",
      "Conjunto não pode ser particionado nas condições do problema SP16\n",
      "Tempo estimado de execução: 0.0 segundos\n",
      "================================================================================\n",
      "Conjunto A:  [1, 2, 4, 5, 8, 9, 11, 15, 19]\n",
      "3 NÃO é divisor de 74 da soma dos elementos de A\n",
      "Conjunto não pode ser particionado nas condições do problema SP16\n",
      "Tempo estimado de execução: 0.0 segundos\n",
      "================================================================================\n",
      "Conjunto A:  [5, 10, 11, 12, 15, 19, 24, 26, 27]\n",
      "3 NÃO é divisor de 149 da soma dos elementos de A\n",
      "Conjunto não pode ser particionado nas condições do problema SP16\n",
      "Tempo estimado de execução: 0.0 segundos\n",
      "================================================================================\n",
      "Conjunto A:  [3, 5, 13, 14, 23, 24, 26, 27, 30]\n",
      "3 é divisor de 165 soma dos elementos de A\n",
      "Não foram encontrados subconjuntos de A que atendam aos critérios do problema, para o número de iterações aplicado.\n",
      "Quantidade de elementos remanescentes em A: [9, 6]\n",
      "Número de elementos cobertos pela extração: 3\n",
      "[[5, 24, 26]]\n",
      "Tempo estimado de execução: 2.9236 segundos\n",
      "================================================================================\n",
      "Conjunto A:  [1, 4, 6, 8, 9, 16, 19, 22, 27]\n",
      "3 NÃO é divisor de 112 da soma dos elementos de A\n",
      "Conjunto não pode ser particionado nas condições do problema SP16\n",
      "Tempo estimado de execução: 0.0 segundos\n",
      "================================================================================\n",
      "Conjunto A:  [3, 4, 6, 7, 12, 15, 16, 18, 21]\n",
      "3 é divisor de 102 soma dos elementos de A\n",
      "Não foram encontrados subconjuntos de A que atendam aos critérios do problema, para o número de iterações aplicado.\n",
      "Quantidade de elementos remanescentes em A: [9, 6]\n",
      "Número de elementos cobertos pela extração: 3\n",
      "[[6, 12, 16]]\n",
      "Tempo estimado de execução: 1.5634 segundos\n",
      "================================================================================\n",
      "Conjunto A:  [2, 3, 12, 13, 17, 22, 25, 28, 29]\n",
      "3 NÃO é divisor de 151 da soma dos elementos de A\n",
      "Conjunto não pode ser particionado nas condições do problema SP16\n",
      "Tempo estimado de execução: 0.0 segundos\n",
      "================================================================================\n",
      "Conjunto A:  [1, 4, 9, 15, 17, 18, 19, 22, 24]\n",
      "3 é divisor de 129 soma dos elementos de A\n",
      "O conjunto pode ser particionado em  3 subconjuntos de soma  43 .\n",
      "[[1, 18, 24], [9, 15, 19], [4, 17, 22]]\n",
      "Tempo estimado de execução: 0.0 segundos\n",
      "================================================================================\n",
      "Conjunto A:  [2, 4, 6, 8, 9, 11, 12, 13, 16]\n",
      "3 é divisor de 81 soma dos elementos de A\n",
      "O conjunto pode ser particionado em  3 subconjuntos de soma  27 .\n",
      "[[6, 8, 13], [2, 9, 16], [4, 11, 12]]\n",
      "Tempo estimado de execução: 0.01 segundos\n",
      "================================================================================\n",
      "Conjunto A:  [1, 3, 4, 6, 15, 16, 23, 24, 26]\n",
      "3 NÃO é divisor de 118 da soma dos elementos de A\n",
      "Conjunto não pode ser particionado nas condições do problema SP16\n",
      "Tempo estimado de execução: 0.0 segundos\n",
      "[0.0, 0.0339, 0.0, 0.0, 1.3501, 0.0, 0.0, 0.0, 2.9236, 0.0, 1.5634, 0.0, 0.0, 0.01, 0.0]\n"
     ]
    }
   ],
   "source": [
    "hst_tempo=[]\n",
    "for i in range(15):\n",
    "    print(\"=\"*80)\n",
    "    cW, cX, cY, m = DefineConjuntoAleatorio(m=3)\n",
    "    t0 = time.time()\n",
    "    geradorSP16_v2(cW, cX, cY)\n",
    "    tempo=round(time.time() - t0,4)\n",
    "    hst_tempo.append(tempo)\n",
    "    print(\"Tempo estimado de execução:\", tempo, \"segundos\")\n",
    "print(hst_tempo)"
   ]
  },
  {
   "cell_type": "code",
   "execution_count": null,
   "metadata": {},
   "outputs": [],
   "source": []
  }
 ],
 "metadata": {
  "colab": {
   "collapsed_sections": [],
   "name": "SP16_v2.0.ipynb",
   "provenance": []
  },
  "kernelspec": {
   "display_name": "Python 3",
   "language": "python",
   "name": "python3"
  },
  "language_info": {
   "codemirror_mode": {
    "name": "ipython",
    "version": 3
   },
   "file_extension": ".py",
   "mimetype": "text/x-python",
   "name": "python",
   "nbconvert_exporter": "python",
   "pygments_lexer": "ipython3",
   "version": "3.8.8"
  }
 },
 "nbformat": 4,
 "nbformat_minor": 1
}
